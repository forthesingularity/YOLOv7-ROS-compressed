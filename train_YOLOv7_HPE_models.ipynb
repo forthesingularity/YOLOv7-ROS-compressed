{
  "cells": [
    {
      "cell_type": "markdown",
      "source": [
        "# **Train YOLOv7 Human Pose Estimation Models - Original and Compressed**"
      ],
      "metadata": {
        "id": "CAkA4VYoO9ED"
      },
      "id": "CAkA4VYoO9ED"
    },
    {
      "cell_type": "code",
      "execution_count": null,
      "id": "c091b69a",
      "metadata": {
        "id": "c091b69a"
      },
      "outputs": [],
      "source": [
        "# git clone the YOLOv7 repository for the first time\n",
        "%cd /home/99versatile/Documents/pose/\n",
        "!git clone -b pose https://github.com/WongKinYiu/yolov7.git\n",
        "%cd yolov7"
      ]
    },
    {
      "cell_type": "code",
      "execution_count": null,
      "id": "d4da2ce3",
      "metadata": {
        "id": "d4da2ce3"
      },
      "outputs": [],
      "source": [
        "import os\n",
        "import sys\n",
        "cwd = os.getcwd()\n",
        "print(f'{cwd}')"
      ]
    },
    {
      "cell_type": "code",
      "execution_count": null,
      "id": "2db04597",
      "metadata": {
        "id": "2db04597"
      },
      "outputs": [],
      "source": [
        "# Make your directory for saving and loading weight files\n",
        "if not os.path.isdir(\"/home/99versatile/Documents/pose/yolov7/weights\"):\n",
        "    os.makedirs(\"/home/99versatile/Documents/pose/yolov7/weights\")"
      ]
    },
    {
      "cell_type": "code",
      "execution_count": null,
      "id": "3d9d8cb7",
      "metadata": {
        "scrolled": true,
        "id": "3d9d8cb7"
      },
      "outputs": [],
      "source": [
        "# get original and initial weights of the YOLOv7 pose estimation model\n",
        "!wget -P /home/99versatile/Documents/pose/yolov7/weights https://github.com/WongKinYiu/yolov7/releases/download/v0.1/yolov7-w6-pose.pt\n",
        "!wget -P /home/99versatile/Documents/pose/yolov7/weights https://github.com/WongKinYiu/yolov7/releases/download/v0.1/yolov7-w6-person.pt"
      ]
    },
    {
      "cell_type": "code",
      "execution_count": null,
      "id": "85ecb3fe",
      "metadata": {
        "id": "85ecb3fe"
      },
      "outputs": [],
      "source": [
        "# run only when requirements not installed\n",
        "!wget https://raw.githubusercontent.com/WongKinYiu/yolov7/u5/requirements.txt\n",
        "!pip install -r requirements.txt"
      ]
    },
    {
      "cell_type": "code",
      "execution_count": null,
      "id": "1cb521f3",
      "metadata": {
        "scrolled": true,
        "id": "1cb521f3"
      },
      "outputs": [],
      "source": [
        "!pip install wandb"
      ]
    },
    {
      "cell_type": "code",
      "execution_count": null,
      "id": "0a5fd0fa",
      "metadata": {
        "id": "0a5fd0fa"
      },
      "outputs": [],
      "source": [
        "import argparse\n",
        "import time\n",
        "from pathlib import Path\n",
        "import cv2\n",
        "import torch\n",
        "import numpy as np\n",
        "import torch.backends.cudnn as cudnn\n",
        "from numpy import random\n",
        "\n",
        "from models.experimental import attempt_load\n",
        "from utils.datasets import LoadStreams, LoadImages, letterbox\n",
        "from utils.general import check_img_size, check_requirements, check_imshow, non_max_suppression, non_max_suppression_kpt, apply_classifier, \\\n",
        "    scale_coords, xyxy2xywh, strip_optimizer, set_logging, increment_path\n",
        "from utils.plots import plot_one_box\n",
        "from utils.torch_utils import select_device, load_classifier, time_synchronized, TracedModel\n",
        "from utils.plots import output_to_keypoint, plot_skeleton_kpts"
      ]
    },
    {
      "cell_type": "code",
      "execution_count": null,
      "id": "75fd15a2",
      "metadata": {
        "id": "75fd15a2",
        "outputId": "70108f40-2a59-4973-e932-7b30b57c2078"
      },
      "outputs": [
        {
          "name": "stderr",
          "output_type": "stream",
          "text": [
            "wandb: Logging into wandb.ai. (Learn how to deploy a W&B server locally: https://wandb.me/wandb-server)\n",
            "wandb: You can find your API key in your browser here: https://wandb.ai/authorize\n",
            "wandb: Paste an API key from your profile and hit enter, or press ctrl+c to quit: "
          ]
        },
        {
          "name": "stdout",
          "output_type": "stream",
          "text": [
            "········\n"
          ]
        },
        {
          "name": "stderr",
          "output_type": "stream",
          "text": [
            "wandb: Appending key for api.wandb.ai to your netrc file: /home/creatura/.netrc\n"
          ]
        },
        {
          "data": {
            "text/plain": [
              "True"
            ]
          },
          "execution_count": 4,
          "metadata": {},
          "output_type": "execute_result"
        }
      ],
      "source": [
        "# import and log-in for using wandb\n",
        "import wandb\n",
        "wandb.login()"
      ]
    },
    {
      "cell_type": "code",
      "execution_count": null,
      "id": "13d7c3f2",
      "metadata": {
        "id": "13d7c3f2"
      },
      "outputs": [],
      "source": [
        "# download COCO dataset if not prepared\n",
        "!bash scripts/get_coco.sh"
      ]
    },
    {
      "cell_type": "code",
      "execution_count": null,
      "id": "a08d4f33",
      "metadata": {
        "id": "a08d4f33"
      },
      "outputs": [],
      "source": [
        "# train the first-compressed version (X-net based)\n",
        "!python3 train.py --single-cls --epochs 300 --data data/coco_kpts.yaml --cfg cfg/yolov7-w6-pose-mod.yaml --save_period 20 --batch-size 8 --img 960 --kpt-label --sync-bn --device 0 --name yolov7-w6-pose-mod-new --hyp data/hyp.pose.yaml"
      ]
    },
    {
      "cell_type": "code",
      "execution_count": null,
      "id": "183ae0cb",
      "metadata": {
        "id": "183ae0cb"
      },
      "outputs": [],
      "source": [
        "# train the second-compressed version (Y-net based)\n",
        "!python3 train.py --single-cls --epochs 300 --data data/coco_kpts.yaml --cfg cfg/yolov7-w6-pose-mod2.yaml --save_period 20 --batch-size 8 --img 960 --kpt-label --sync-bn --device 0 --name yolov7-w6-pose-mod-new-2nd --hyp data/hyp.pose.yaml"
      ]
    },
    {
      "cell_type": "code",
      "execution_count": null,
      "id": "5c4d4b00",
      "metadata": {
        "id": "5c4d4b00"
      },
      "outputs": [],
      "source": [
        "# train the third-compressed version (Z-net based)\n",
        "!python3 train.py --single-cls --epochs 300 --data data/coco_kpts.yaml --cfg cfg/yolov7-w6-pose-mod3.yaml --save_period 20 --batch-size 8 --img 960 --kpt-label --sync-bn --device 0 --name yolov7-w6-pose-mod-new-3rd --hyp data/hyp.pose.yaml"
      ]
    },
    {
      "cell_type": "code",
      "execution_count": null,
      "id": "d50cb0b8",
      "metadata": {
        "id": "d50cb0b8"
      },
      "outputs": [],
      "source": [
        "# train the original version\n",
        "!python3 train.py --single-cls --epochs 300 --data data/coco_kpts.yaml --cfg cfg/yolov7-w6-pose.yaml --save_period 20 --batch-size 8 --img 960 --kpt-label --sync-bn --device 0 --name yolov7-w6-pose-new --hyp data/hyp.pose.yaml"
      ]
    },
    {
      "cell_type": "code",
      "execution_count": null,
      "id": "ec510a23",
      "metadata": {
        "id": "ec510a23"
      },
      "outputs": [],
      "source": []
    }
  ],
  "metadata": {
    "kernelspec": {
      "display_name": "Python 3 (ipykernel)",
      "language": "python",
      "name": "python3"
    },
    "language_info": {
      "codemirror_mode": {
        "name": "ipython",
        "version": 3
      },
      "file_extension": ".py",
      "mimetype": "text/x-python",
      "name": "python",
      "nbconvert_exporter": "python",
      "pygments_lexer": "ipython3",
      "version": "3.8.10"
    },
    "colab": {
      "provenance": []
    }
  },
  "nbformat": 4,
  "nbformat_minor": 5
}