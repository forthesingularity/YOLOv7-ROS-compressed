{
  "nbformat": 4,
  "nbformat_minor": 0,
  "metadata": {
    "colab": {
      "provenance": []
    },
    "kernelspec": {
      "name": "python3",
      "display_name": "Python 3"
    },
    "language_info": {
      "name": "python"
    }
  },
  "cells": [
    {
      "cell_type": "markdown",
      "source": [
        "# **Inference on Pose Classification MLP**"
      ],
      "metadata": {
        "id": "IYf_1W3HJCvw"
      }
    },
    {
      "cell_type": "code",
      "execution_count": null,
      "metadata": {
        "colab": {
          "base_uri": "https://localhost:8080/"
        },
        "id": "1KHJ30adTioE",
        "outputId": "7023ca52-ddfb-4b45-fa91-f7e0b3c1e996"
      },
      "outputs": [
        {
          "output_type": "stream",
          "name": "stdout",
          "text": [
            "Drive already mounted at /content/gdrive; to attempt to forcibly remount, call drive.mount(\"/content/gdrive\", force_remount=True).\n"
          ]
        }
      ],
      "source": [
        "# mount google drive if necessary\n",
        "from google.colab import drive\n",
        "drive.mount('/content/gdrive')"
      ]
    },
    {
      "cell_type": "code",
      "source": [
        "import os\n",
        "import sys\n",
        "import numpy as np\n",
        "import pandas as pd\n",
        "import csv\n",
        "import matplotlib.pyplot as plt\n",
        "import torch\n",
        "import torch.nn as nn\n",
        "from torch.utils.data import Dataset, DataLoader, random_split\n",
        "from torchvision.transforms import ToTensor\n",
        "from tqdm.auto import tqdm\n",
        "import torchsummary"
      ],
      "metadata": {
        "id": "84yIL_7cTmV2"
      },
      "execution_count": null,
      "outputs": []
    },
    {
      "cell_type": "code",
      "source": [
        "class linear(nn.Module):\n",
        "  def __init__(self, in_features, out_features):\n",
        "    super().__init__()\n",
        "    self.linear = nn.Linear(in_features, out_features)\n",
        "    self.relu = nn.ReLU()\n",
        "\n",
        "  def forward(self, x):\n",
        "    x = self.linear(x)\n",
        "    x = self.relu(x)\n",
        "    return x\n",
        "\n",
        "class pose_class_MLP(nn.Module):\n",
        "  def __init__(self):\n",
        "    super().__init__()\n",
        "    self.net1 = linear(51, 1000)\n",
        "    self.net2 = linear(1000, 256)\n",
        "    self.net3 = nn.Linear(256, 8)\n",
        "\n",
        "  def forward(self, x):\n",
        "    x = x.view(-1)\n",
        "    x = self.net1(x)\n",
        "    x = self.net2(x)\n",
        "    x = self.net3(x)\n",
        "    return x"
      ],
      "metadata": {
        "id": "NxgNZjikUAxe"
      },
      "execution_count": null,
      "outputs": []
    },
    {
      "cell_type": "code",
      "source": [
        "device = torch.device(\"cuda:0\" if torch.cuda.is_available() else \"cpu\")\n",
        "\n",
        "# load the pretrained MLP model\n",
        "save_path = '/content/gdrive/MyDrive/pretrained_MLP/'\n",
        "file_name = 'pose_class_MLP.pt'\n",
        "PATH = save_path + file_name\n",
        "model = pose_class_MLP().to(device)\n",
        "model.load_state_dict(torch.load(PATH))\n",
        "model.eval()"
      ],
      "metadata": {
        "id": "Aasrsi2mUHUF"
      },
      "execution_count": null,
      "outputs": []
    },
    {
      "cell_type": "code",
      "source": [
        "ki = [0, 32, 68, 66, 101, 67, 100, 65]\n",
        "def inference(x):\n",
        "  x.to(device)\n",
        "  y = model(x)\n",
        "  index = int(torch.argmax(y).cpu.item())\n",
        "\n",
        "  return ki[index]"
      ],
      "metadata": {
        "id": "TRO1wUvIabU2"
      },
      "execution_count": null,
      "outputs": []
    },
    {
      "cell_type": "code",
      "source": [
        "input_tensor # yolov7 keypoint output\n",
        "inference(input_tensor) # keyboard input as an output"
      ],
      "metadata": {
        "id": "gCxlmfrFgA3H"
      },
      "execution_count": null,
      "outputs": []
    },
    {
      "cell_type": "code",
      "source": [],
      "metadata": {
        "id": "fXZnmR8ZgA5G"
      },
      "execution_count": null,
      "outputs": []
    },
    {
      "cell_type": "code",
      "source": [
        "if __name__ == '__main__':\n",
        "    parser = argparse.ArgumentParser()\n",
        "    parser.add_argument('--input', required=True, type=str, default='', help='input tensor value') # default='None',\n",
        "\n",
        "    opt = parser.parse_args()"
      ],
      "metadata": {
        "id": "RO-2OvEWd0uD"
      },
      "execution_count": null,
      "outputs": []
    }
  ]
}